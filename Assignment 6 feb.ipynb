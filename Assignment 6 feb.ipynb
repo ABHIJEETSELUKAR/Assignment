{
 "cells": [
  {
   "cell_type": "code",
   "execution_count": 83,
   "id": "6d9ffc90-ffb7-4da5-b74b-95b3f7a37b50",
   "metadata": {},
   "outputs": [
    {
     "name": "stdout",
     "output_type": "stream",
     "text": [
      "578815684656168960\n"
     ]
    }
   ],
   "source": [
    "# Q1 Answer = \n",
    "lst = [1, 2, 3, 4, [44, 55, 66, True], False, (34, 56, 78, 89, 34), {1, 2, 3, 3, 2, 1}, \n",
    "       {1: 34, \"key2\": [55, 67, 78, 89], 4: (45, 22, 61, 34)}, [56, 'data science'], 'Machine Learning']\n",
    "def product_of_numeric_value(lst):\n",
    "    flat_list = []\n",
    "    for i in lst:\n",
    "        if isinstance(i, (int, float)): \n",
    "            flat_list.append(i)\n",
    "        elif isinstance(i,list) or isinstance(i,tuple) or isinstance(i,set) :\n",
    "            for j in i:\n",
    "                if isinstance(j, (int, float)):\n",
    "                    flat_list.append(j)\n",
    "        elif i==dict:\n",
    "             for k,v in i:\n",
    "                    if key==int or key==float:\n",
    "                        flat_list.append(k)\n",
    "                    if value==int or value==float:\n",
    "                        flat_list.append(v)  \n",
    "    flat_list= [x for x in flat_list if not isinstance(x, bool)]\n",
    "    product = 1\n",
    "    for num in flat_list:\n",
    "        product = product*num\n",
    "    return product\n",
    "result = product_of_numeric_value(lst)       \n",
    "print(result)    "
   ]
  },
  {
   "cell_type": "code",
   "execution_count": 84,
   "id": "df78cb6f-7a70-4a0e-ba24-eff15971cfe3",
   "metadata": {},
   "outputs": [
    {
     "name": "stdout",
     "output_type": "stream",
     "text": [
      "$dzmg$gl$yvxlnv$z$zgz$xrvmgrhg.\n"
     ]
    }
   ],
   "source": [
    "# Q2\n",
    "def encrypt(message):\n",
    "    result = \"\"\n",
    "    for char in message:\n",
    "        if char.isalpha():\n",
    "            result += chr(219 - ord(char))\n",
    "        elif char == ' ':\n",
    "            result += '$'\n",
    "        else:\n",
    "            result += char\n",
    "    return result.lower()\n",
    "\n",
    "input_sentence = \"I want to become a Data Scientist.\"\n",
    "encrypted_message = encrypt(input_sentence)\n",
    "print(encrypted_message)\n"
   ]
  }
 ],
 "metadata": {
  "kernelspec": {
   "display_name": "Python 3 (ipykernel)",
   "language": "python",
   "name": "python3"
  },
  "language_info": {
   "codemirror_mode": {
    "name": "ipython",
    "version": 3
   },
   "file_extension": ".py",
   "mimetype": "text/x-python",
   "name": "python",
   "nbconvert_exporter": "python",
   "pygments_lexer": "ipython3",
   "version": "3.10.8"
  }
 },
 "nbformat": 4,
 "nbformat_minor": 5
}
