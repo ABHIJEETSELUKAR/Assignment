{
 "cells": [
  {
   "cell_type": "raw",
   "id": "ae59c835-aea8-4d8f-ba33-b01864b0fd49",
   "metadata": {},
   "source": [
    "Q1"
   ]
  },
  {
   "cell_type": "code",
   "execution_count": 97,
   "id": "3bb464b8-451c-40a8-b130-df4802a1949f",
   "metadata": {},
   "outputs": [
    {
     "name": "stdin",
     "output_type": "stream",
     "text": [
      "enter your password: Abhi@#$f5V\n"
     ]
    },
    {
     "name": "stdout",
     "output_type": "stream",
     "text": [
      "Password valid\n"
     ]
    }
   ],
   "source": [
    "password = input('enter your password:')\n",
    "def validation(password):\n",
    "    count = 0 \n",
    "    count_lower=0\n",
    "    count_special =0\n",
    "    count_int=0\n",
    "    for i in password:\n",
    "        if i.isupper():\n",
    "            count = count + 1 \n",
    "        elif i.islower():\n",
    "            count_lower = count_lower + 1 \n",
    "        elif i.isnumeric():\n",
    "            count_int = count_int + 1 \n",
    "        else:\n",
    "            count_special= count_special+1\n",
    "    if len(password)==10 and count>=2 and count_lower >=2 and count_special >=3 and count_int>=1 :\n",
    "        print('Password valid')\n",
    "    else:\n",
    "        print('Password invalid')\n",
    "result = validation(password)"
   ]
  },
  {
   "cell_type": "raw",
   "id": "978c3fd6-6798-47be-8206-844c37107083",
   "metadata": {},
   "source": [
    "Q2. Solve the below-given questions using at least one of the following: \n",
    "\n",
    "1. Lambda function\n",
    "2. Filter function\n",
    "3. map function\n",
    "4. List Comprehension\n",
    "a)Check if the string starts with a particular letter\n",
    "b)Check if the string is numeric\n",
    "c)Sort a list of tuples having fruit names and their quantity. [(\"mango\",99),(\"orange\",80), (\"grapes\", 1000)]\n",
    "d)Find the squares of numbers from 1 to 10\n",
    "e)Find the cube root of numbers from 1 to 10\n",
    "f)Check if a given number is even\n",
    "j)Filter odd numbers from the given list\n",
    "[1,2,3,4,5,6,7,8,9,10]\n",
    "i)Sort a list of integers into positive and negative integers lists\n",
    "[1,2,3,4,5,6,-1,-2,-3,-4,-5,0]"
   ]
  },
  {
   "cell_type": "code",
   "execution_count": 95,
   "id": "ddf99d6d-beaa-4c9b-b6db-b10dacf23ddf",
   "metadata": {},
   "outputs": [
    {
     "name": "stdin",
     "output_type": "stream",
     "text": [
      "a) enter the letter : a\n"
     ]
    },
    {
     "name": "stdout",
     "output_type": "stream",
     "text": [
      "a) ['apple']\n",
      "b) ['123', '456']\n",
      "c) [('orange', 80), ('mango', 99), ('grapes', 1000)]\n",
      "d) [1, 4, 9, 16, 25, 36, 49, 64, 81, 100]\n",
      "e) [1, 8, 27, 64, 125, 216, 343, 512, 729, 1000]\n"
     ]
    },
    {
     "name": "stdin",
     "output_type": "stream",
     "text": [
      "f) enter the number: 2\n"
     ]
    },
    {
     "name": "stdout",
     "output_type": "stream",
     "text": [
      "f) Ans: It is Even number\n",
      "g) odd number are:  [1, 3, 5, 7, 9]\n",
      "h) positive integers: [0, 1, 2, 3, 4, 5, 6] negative integers: [-5, -4, -3, -2, -1]\n"
     ]
    }
   ],
   "source": [
    "# a)\n",
    "string_list = [\"apple\", \"banana\", \"cherry\", \"orange\"]\n",
    "letter = input('a) enter the letter :')\n",
    "result = [s for s in string_list if s.startswith(letter)]\n",
    "print('a)',result) \n",
    "# b)\n",
    "l1 = [\"apple\", \"123\", \"cherry\", \"456\"]\n",
    "result = list(filter(lambda s : s.isnumeric(),l1))\n",
    "print('b)',result)\n",
    "# c)\n",
    "tuples_list = [(\"mango\",99),(\"orange\",80), (\"grapes\", 1000)]\n",
    "result = sorted(tuples_list, key = lambda x : x[1])\n",
    "print('c)',result)\n",
    "# d)\n",
    "result = [i**2 for i in range(1,11)]\n",
    "print('d)',result)\n",
    "# e)\n",
    "result = [i**3 for i in range(1,11)]\n",
    "print('e)',result)\n",
    "# f)\n",
    "n =int(input(\"f) enter the number:\"))\n",
    "if n%2==0: \n",
    "       print('f) Ans:','It is Even number')\n",
    "else:\n",
    "       print('f) Ans:','It is Odd number')       \n",
    "# g)\n",
    "l1 = [1,2,3,4,5,6,7,8,9,10]\n",
    "result = list(filter(lambda x: x if x%2 != 0 else 0, l1))\n",
    "print('g) odd number are: ',result)\n",
    "# h)\n",
    "l1 = [1,2,3,4,5,6,-1,-2,-3,-4,-5,0]\n",
    "positive = []\n",
    "negative = []\n",
    "for i in l1:\n",
    "    if i>=0:\n",
    "        positive.append(i)\n",
    "    elif i<0:\n",
    "        negative.append(i)\n",
    "positive.sort()\n",
    "negative.sort()\n",
    "print('h) positive integers:',positive, 'negative integers:',negative)\n"
   ]
  },
  {
   "cell_type": "code",
   "execution_count": null,
   "id": "b6490049-0cef-4869-b6ba-0f79b5dd4b50",
   "metadata": {},
   "outputs": [],
   "source": []
  }
 ],
 "metadata": {
  "kernelspec": {
   "display_name": "Python 3 (ipykernel)",
   "language": "python",
   "name": "python3"
  },
  "language_info": {
   "codemirror_mode": {
    "name": "ipython",
    "version": 3
   },
   "file_extension": ".py",
   "mimetype": "text/x-python",
   "name": "python",
   "nbconvert_exporter": "python",
   "pygments_lexer": "ipython3",
   "version": "3.10.8"
  }
 },
 "nbformat": 4,
 "nbformat_minor": 5
}
