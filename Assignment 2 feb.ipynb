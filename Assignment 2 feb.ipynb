{
 "cells": [
  {
   "cell_type": "markdown",
   "id": "115649db-1e22-46c2-89c4-99bc24ffe83d",
   "metadata": {},
   "source": [
    "Q.1 \n",
    "In Python, for loops and while loops are two types of iteration constructs that can be used to repeatedly execute a block of code. Here's an example of when to use each:\n",
    "\n",
    "For loop\n",
    "Use a for loop when you know the number of iterations beforehand, or when you want to iterate over a sequence of elements (such as a list, tuple, or string).\n",
    "\n",
    "While loop\n",
    "Use a while loop when you want to keep executing a block of code as long as a certain condition is met."
   ]
  },
  {
   "cell_type": "code",
   "execution_count": 7,
   "id": "5e0e27e1-bc46-4815-a500-9a57010ed579",
   "metadata": {},
   "outputs": [
    {
     "name": "stdout",
     "output_type": "stream",
     "text": [
      "1\n",
      "2\n",
      "3\n",
      "4\n",
      "5\n",
      "6\n",
      "7\n",
      "8\n",
      "9\n",
      "10\n"
     ]
    }
   ],
   "source": [
    "for i in range(10):\n",
    "    print(i)\n"
   ]
  },
  {
   "cell_type": "code",
   "execution_count": 8,
   "id": "db818ac5-ee9e-4cb4-83a2-39ed5e8fe0da",
   "metadata": {},
   "outputs": [
    {
     "name": "stdout",
     "output_type": "stream",
     "text": [
      "1\n",
      "2\n",
      "3\n",
      "4\n",
      "5\n",
      "6\n",
      "7\n",
      "8\n",
      "9\n",
      "10\n"
     ]
    }
   ],
   "source": [
    "i=0   \n",
    "while i<10:\n",
    "     i=i+1\n",
    "     print(i)"
   ]
  },
  {
   "cell_type": "markdown",
   "id": "f764cf6d-796c-47b7-9cc9-cc14c240bed9",
   "metadata": {},
   "source": [
    "Q.2 "
   ]
  },
  {
   "cell_type": "code",
   "execution_count": 5,
   "id": "4154e47b-21ed-4b7e-bf1e-d332f0a0e2ce",
   "metadata": {},
   "outputs": [
    {
     "name": "stdout",
     "output_type": "stream",
     "text": [
      "sum of 10 natural numbers is 55 , And Product of 10 natural numbers is 3628800\n"
     ]
    }
   ],
   "source": [
    "i=0 \n",
    "sum=0\n",
    "product=1\n",
    "for i in range(1,11):    \n",
    "    sum = sum + i \n",
    "    i=i+1\n",
    "for i in range(1,11):    \n",
    "    product = product*i \n",
    "    i=i+1    \n",
    "print('sum of 10 natural numbers is' ,sum,', And Product of 10 natural numbers is',product)"
   ]
  },
  {
   "cell_type": "markdown",
   "id": "b8a8054b-bbd0-4092-8ce1-190426f48d8d",
   "metadata": {},
   "source": [
    "Q.3"
   ]
  },
  {
   "cell_type": "code",
   "execution_count": 10,
   "id": "f813ff0d-3685-4480-b3bc-6451f847a95b",
   "metadata": {},
   "outputs": [
    {
     "name": "stdin",
     "output_type": "stream",
     "text": [
      "enter the number of units used 310\n"
     ]
    },
    {
     "name": "stdout",
     "output_type": "stream",
     "text": [
      "2250\n"
     ]
    }
   ],
   "source": [
    "n = int(input(\"enter the number of units used\"))\n",
    "\n",
    "if (n<=100):\n",
    "    print(n*4.5)\n",
    "elif(100<n<=200):\n",
    "    print((450+(n-100)*6))\n",
    "elif(200<n<=300):\n",
    "    print(1050+(n-200)*10)\n",
    "else:\n",
    "    print(2050+(n-300)*20)"
   ]
  },
  {
   "cell_type": "markdown",
   "id": "ec00fb36-9225-4479-9979-96bb55d1d38a",
   "metadata": {},
   "source": [
    "Q.4"
   ]
  },
  {
   "cell_type": "code",
   "execution_count": 15,
   "id": "2f5deac7-dad3-46cd-bab0-ee61cfd84fff",
   "metadata": {},
   "outputs": [
    {
     "name": "stdout",
     "output_type": "stream",
     "text": [
      "[0, 2, 4, 5, 6, 8, 10, 12, 14, 15, 16, 18, 20, 22, 24, 25, 26, 28, 30, 32, 34, 35, 36, 38, 40, 42, 44, 45, 46, 48, 50, 52, 54, 55, 56, 58, 60, 62, 64, 65, 66, 68, 70, 72, 74, 75, 76, 78, 80, 82, 84, 85, 86, 88, 90, 92, 94, 95, 96, 98, 100]\n"
     ]
    }
   ],
   "source": [
    "l = []\n",
    "for i in range(101):\n",
    "    if i**3%4==0 or i**3%5==0:\n",
    "        l.append(i)\n",
    "print(l)"
   ]
  },
  {
   "cell_type": "code",
   "execution_count": 8,
   "id": "54db79eb-48ae-40e2-8218-f33ad2666938",
   "metadata": {},
   "outputs": [
    {
     "name": "stdout",
     "output_type": "stream",
     "text": [
      "[2, 4, 5, 6, 8, 10, 12, 14, 15, 16, 18, 20, 22, 24, 25, 26, 28, 30, 32, 34, 35, 36, 38, 40, 42, 44, 45, 46, 48, 50, 52, 54, 55, 56, 58, 60, 62, 64, 65, 66, 68, 70, 72, 74, 75, 76, 78, 80, 82, 84, 85, 86, 88, 90, 92, 94, 95, 96, 98, 100]\n"
     ]
    }
   ],
   "source": [
    "l = []\n",
    "i = 0 \n",
    "while i<101:\n",
    "    i= i+1\n",
    "    if i**3%4==0 or i**3%5==0:\n",
    "        l.append(i)\n",
    "print(l)"
   ]
  },
  {
   "cell_type": "code",
   "execution_count": 24,
   "id": "f21e873b-4a66-4b2a-b024-28d231eaef93",
   "metadata": {},
   "outputs": [
    {
     "name": "stdout",
     "output_type": "stream",
     "text": [
      "12\n"
     ]
    }
   ],
   "source": [
    "string = \"I want to become a data scientist\"\n",
    "vowels = 'aeiouAEIOU'\n",
    "i =0 \n",
    "for char in string:\n",
    "    if char in vowels:\n",
    "        i = i+1\n",
    "print(\"Total Vowels ai)"
   ]
  },
  {
   "cell_type": "code",
   "execution_count": 21,
   "id": "e82d283c-91b3-40bf-8f82-d52e3041b6bb",
   "metadata": {},
   "outputs": [
    {
     "name": "stdout",
     "output_type": "stream",
     "text": [
      "The number of vowels in the string is: 12\n"
     ]
    }
   ],
   "source": [
    "string = \"I want to become a data scientist\"\n",
    "vowels = 'aeiouAEIOU'\n",
    "count = 0\n",
    "\n",
    "for char in string:\n",
    "    if char in vowels:\n",
    "        count += 1\n",
    "\n",
    "print(\"The number of vowels in the string is:\", count)\n"
   ]
  },
  {
   "cell_type": "code",
   "execution_count": null,
   "id": "5867f6b8-6bfe-424f-ae6b-1a3a2aba994f",
   "metadata": {},
   "outputs": [],
   "source": []
  }
 ],
 "metadata": {
  "kernelspec": {
   "display_name": "Python 3 (ipykernel)",
   "language": "python",
   "name": "python3"
  },
  "language_info": {
   "codemirror_mode": {
    "name": "ipython",
    "version": 3
   },
   "file_extension": ".py",
   "mimetype": "text/x-python",
   "name": "python",
   "nbconvert_exporter": "python",
   "pygments_lexer": "ipython3",
   "version": "3.10.8"
  }
 },
 "nbformat": 4,
 "nbformat_minor": 5
}
