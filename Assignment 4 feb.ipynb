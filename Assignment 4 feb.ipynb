{
 "cells": [
  {
   "cell_type": "markdown",
   "id": "14b47bcf-fb80-483e-a2ae-285dccb7b299",
   "metadata": {},
   "source": [
    "Q1"
   ]
  },
  {
   "cell_type": "code",
   "execution_count": 73,
   "id": "8df2e03d-64b0-4326-ad73-a8d58d5209da",
   "metadata": {},
   "outputs": [
    {
     "name": "stdout",
     "output_type": "stream",
     "text": [
      "[('Ricky Pointing', 24783), ('virat Kohli', 24936), ('Jack Kallis', 25534), ('Sachin Tendulkar', 34357)]\n"
     ]
    }
   ],
   "source": [
    "l = [('Sachin Tendulkar',34357), (\"Ricky Pointing\", 24783), ('Jack Kallis',25534),('virat Kohli', 24936)]\n",
    "\n",
    "l_sorted = sorted(l, key=lambda x: x[1])\n",
    "print(l_sorted)"
   ]
  },
  {
   "cell_type": "markdown",
   "id": "02d07eb6-c5fa-4f24-ab54-b25234a72925",
   "metadata": {},
   "source": [
    "Q2"
   ]
  },
  {
   "cell_type": "code",
   "execution_count": 84,
   "id": "bfa6791b-5162-4d81-af8c-acafe9d006fe",
   "metadata": {},
   "outputs": [
    {
     "data": {
      "text/plain": [
       "[1, 4, 9, 16, 25, 36, 49, 64, 81, 100]"
      ]
     },
     "execution_count": 84,
     "metadata": {},
     "output_type": "execute_result"
    }
   ],
   "source": [
    "l1=[i for i in range(1,11)]\n",
    "list(map( lambda x: x**2,l1)) "
   ]
  },
  {
   "cell_type": "markdown",
   "id": "58ae630e-ce47-4f06-8cf7-86032a9e6373",
   "metadata": {},
   "source": [
    "Q3"
   ]
  },
  {
   "cell_type": "code",
   "execution_count": 96,
   "id": "06dd685b-0548-49aa-a60c-c23b3d72b3ac",
   "metadata": {},
   "outputs": [
    {
     "data": {
      "text/plain": [
       "('1', '2', '3', '4', '5', '6', '7', '8', '9', '10')"
      ]
     },
     "execution_count": 96,
     "metadata": {},
     "output_type": "execute_result"
    }
   ],
   "source": [
    "l3 = tuple(map(lambda x: str(x),l1))\n",
    "l3"
   ]
  },
  {
   "cell_type": "markdown",
   "id": "7692148b-77ac-46cd-8116-bae3903c51ca",
   "metadata": {},
   "source": [
    "Q4"
   ]
  },
  {
   "cell_type": "code",
   "execution_count": 100,
   "id": "f2a68b17-ddc2-48d5-9e29-23940fc1f627",
   "metadata": {},
   "outputs": [
    {
     "data": {
      "text/plain": [
       "3628800"
      ]
     },
     "execution_count": 100,
     "metadata": {},
     "output_type": "execute_result"
    }
   ],
   "source": [
    "from functools import reduce\n",
    "reduce(lambda x,y:x*y , l1 )"
   ]
  },
  {
   "cell_type": "markdown",
   "id": "69b67e1d-3c3a-4259-80d9-1710546d9cdc",
   "metadata": {},
   "source": [
    "Q5"
   ]
  },
  {
   "cell_type": "code",
   "execution_count": 107,
   "id": "06cbc90a-a055-42f8-9127-2ed2db274e67",
   "metadata": {},
   "outputs": [
    {
     "data": {
      "text/plain": [
       "[2, 3, 4, 6, 8, 9, 10, 12, 14, 15, 16, 18, 20, 21, 22, 24]"
      ]
     },
     "execution_count": 107,
     "metadata": {},
     "output_type": "execute_result"
    }
   ],
   "source": [
    "l4 = [i for i in range(1,26)]\n",
    "list(filter(lambda x: x if x%2==0 or x%3==0 else 0,l4))"
   ]
  },
  {
   "cell_type": "markdown",
   "id": "0ba54309-6456-413b-8e68-ccefb97b9d0a",
   "metadata": {},
   "source": [
    "Q6"
   ]
  },
  {
   "cell_type": "code",
   "execution_count": 134,
   "id": "5c895c2c-8b17-468d-9ecd-45402d5d211d",
   "metadata": {},
   "outputs": [
    {
     "data": {
      "text/plain": [
       "['php', 'aba', 'radar', 'level']"
      ]
     },
     "execution_count": 134,
     "metadata": {},
     "output_type": "execute_result"
    }
   ],
   "source": [
    "l5 = ['python', 'php', 'aba', 'radar', 'level']\n",
    "list(filter(lambda x : x== x[::-1],l5))"
   ]
  },
  {
   "cell_type": "code",
   "execution_count": null,
   "id": "4df610f2-637a-43e0-8f4b-a1c19589cd82",
   "metadata": {},
   "outputs": [],
   "source": []
  }
 ],
 "metadata": {
  "kernelspec": {
   "display_name": "Python 3 (ipykernel)",
   "language": "python",
   "name": "python3"
  },
  "language_info": {
   "codemirror_mode": {
    "name": "ipython",
    "version": 3
   },
   "file_extension": ".py",
   "mimetype": "text/x-python",
   "name": "python",
   "nbconvert_exporter": "python",
   "pygments_lexer": "ipython3",
   "version": "3.10.8"
  }
 },
 "nbformat": 4,
 "nbformat_minor": 5
}
