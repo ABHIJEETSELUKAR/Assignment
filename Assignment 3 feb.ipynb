{
 "cells": [
  {
   "cell_type": "markdown",
   "id": "eea7418d-d8d1-4738-b977-20e8f4d637ab",
   "metadata": {},
   "source": [
    "Q1 Ans : Keyword for Define fuction is def"
   ]
  },
  {
   "cell_type": "markdown",
   "id": "4fd496a0-a8ec-4760-847c-649c46d0ccaf",
   "metadata": {},
   "source": [
    "Q1 : Ans"
   ]
  },
  {
   "cell_type": "code",
   "execution_count": 61,
   "id": "464ced4e-338f-4fcb-b3ac-78e962145f55",
   "metadata": {},
   "outputs": [
    {
     "name": "stdout",
     "output_type": "stream",
     "text": [
      "[1, 3, 5, 7, 9, 11, 13, 15, 17, 19, 21, 23, 25]\n"
     ]
    }
   ],
   "source": [
    "def odd_number(n):\n",
    "    l = []\n",
    "    for i in range(n):\n",
    "        if (i%2!=0):\n",
    "            l.append(i)\n",
    "    return l\n",
    "print(odd_number(26))     "
   ]
  },
  {
   "cell_type": "markdown",
   "id": "8498a863-3e17-468f-83aa-f7631c9b4cf0",
   "metadata": {},
   "source": [
    "Q2: ans = *args and **kwargs are used in functions as a way to pass a variable number of arguments to a function. *args allows a function to accept any number of non-keyword arguments, and **kwargs allows a function to accept any number of keyword arguments\n",
    "Examples are given below"
   ]
  },
  {
   "cell_type": "code",
   "execution_count": 78,
   "id": "bdaae519-c7e3-4f43-9df8-ed4f86df8381",
   "metadata": {},
   "outputs": [
    {
     "name": "stdout",
     "output_type": "stream",
     "text": [
      "1\n",
      "2\n",
      "3\n",
      "4\n"
     ]
    }
   ],
   "source": [
    "def Function(*args):\n",
    "    for i in args:\n",
    "        print(i)\n",
    "Function(1,2,3,4)       "
   ]
  },
  {
   "cell_type": "code",
   "execution_count": 81,
   "id": "a040857f-0765-473c-acfd-5aebe754f853",
   "metadata": {},
   "outputs": [
    {
     "data": {
      "text/plain": [
       "{'a': 'apple', 'b': 'ball', 'c': 'cat', 'd': [1, 2, 3, 4]}"
      ]
     },
     "execution_count": 81,
     "metadata": {},
     "output_type": "execute_result"
    }
   ],
   "source": [
    "def function(**kwargs):\n",
    "    return kwargs\n",
    "function(a='apple',b='ball',c='cat',d=[1,2,3,4])"
   ]
  },
  {
   "cell_type": "markdown",
   "id": "b4dede22-108a-487c-a1e4-b7cc65c63eaf",
   "metadata": {},
   "source": [
    "Q.3"
   ]
  },
  {
   "cell_type": "code",
   "execution_count": 100,
   "id": "943acd04-d4ec-4898-9feb-2b74209a93bf",
   "metadata": {},
   "outputs": [],
   "source": [
    "\n",
    "l = []\n",
    "for i in range(1,21):\n",
    "    if i%2==0:\n",
    "        l.append(i)"
   ]
  },
  {
   "cell_type": "code",
   "execution_count": 101,
   "id": "21c54369-200d-4f3f-9f66-afa66ddf4021",
   "metadata": {},
   "outputs": [
    {
     "data": {
      "text/plain": [
       "[2, 4, 6, 8, 10, 12, 14, 16, 18, 20]"
      ]
     },
     "execution_count": 101,
     "metadata": {},
     "output_type": "execute_result"
    }
   ],
   "source": [
    "l"
   ]
  },
  {
   "cell_type": "code",
   "execution_count": 102,
   "id": "b4074cc6-5d7e-4ea6-aa37-a3efdc44116e",
   "metadata": {},
   "outputs": [
    {
     "data": {
      "text/plain": [
       "2"
      ]
     },
     "execution_count": 102,
     "metadata": {},
     "output_type": "execute_result"
    }
   ],
   "source": [
    "l1 = iter(l)\n",
    "next(l1)"
   ]
  },
  {
   "cell_type": "code",
   "execution_count": 96,
   "id": "f72d6dab-9990-40cc-9c20-e6732238a2be",
   "metadata": {},
   "outputs": [
    {
     "data": {
      "text/plain": [
       "4"
      ]
     },
     "execution_count": 96,
     "metadata": {},
     "output_type": "execute_result"
    }
   ],
   "source": [
    "next(l1)"
   ]
  },
  {
   "cell_type": "code",
   "execution_count": 97,
   "id": "81d1ee44-8e2c-49b2-ad7b-a2e7ea24210b",
   "metadata": {},
   "outputs": [
    {
     "data": {
      "text/plain": [
       "6"
      ]
     },
     "execution_count": 97,
     "metadata": {},
     "output_type": "execute_result"
    }
   ],
   "source": [
    "next(l1)"
   ]
  },
  {
   "cell_type": "code",
   "execution_count": 98,
   "id": "7c570d9c-bb24-4ce9-ba4b-53b2cb2f6e5c",
   "metadata": {},
   "outputs": [
    {
     "data": {
      "text/plain": [
       "8"
      ]
     },
     "execution_count": 98,
     "metadata": {},
     "output_type": "execute_result"
    }
   ],
   "source": [
    "next(l1)"
   ]
  },
  {
   "cell_type": "code",
   "execution_count": 99,
   "id": "1f63794f-0a87-46eb-9092-c0fbac2d5d44",
   "metadata": {},
   "outputs": [
    {
     "data": {
      "text/plain": [
       "10"
      ]
     },
     "execution_count": 99,
     "metadata": {},
     "output_type": "execute_result"
    }
   ],
   "source": [
    "next(l1)"
   ]
  },
  {
   "cell_type": "markdown",
   "id": "54a2930f-8187-4cac-828f-ac9b9f4d35f2",
   "metadata": {},
   "source": [
    "Q.4: \n",
    "        In Python, a generator function is a special type of function that returns a generator object. A generator is an iterable object that generates values one at a time, instead of creating a whole list of values all at once. This can be useful for working with large datasets or for situations where you don't want to create an entire list just to iterate over it once.\n",
    "\n",
    "The yield keyword is used in a generator function to return a value to the caller, but it also \"remembers\" its state, so the next time the generator is called, it picks up where it left off."
   ]
  },
  {
   "cell_type": "code",
   "execution_count": 109,
   "id": "9a11c399-ecaa-42b8-85a7-0c7b30ec88dc",
   "metadata": {},
   "outputs": [],
   "source": [
    "def fib():\n",
    "    a,b= 0,1\n",
    "    for i in range(20):\n",
    "        yield a\n",
    "        a,b = b, a+b\n",
    "f=fib()"
   ]
  },
  {
   "cell_type": "code",
   "execution_count": 111,
   "id": "c079a438-722b-4576-b1fb-0de766fbef5e",
   "metadata": {},
   "outputs": [
    {
     "name": "stdout",
     "output_type": "stream",
     "text": [
      "0\n",
      "1\n",
      "1\n",
      "2\n",
      "3\n",
      "5\n",
      "8\n",
      "13\n",
      "21\n",
      "34\n"
     ]
    }
   ],
   "source": [
    "for i in range(10):\n",
    "    print(next(f))"
   ]
  },
  {
   "cell_type": "markdown",
   "id": "f67f9d88-25e4-48ab-b33a-b448ac4eb3d9",
   "metadata": {},
   "source": [
    "Q.5"
   ]
  },
  {
   "cell_type": "code",
   "execution_count": 72,
   "id": "c5cf224c-f48c-4fb0-bcc1-6a0aecdb97e6",
   "metadata": {},
   "outputs": [
    {
     "name": "stdout",
     "output_type": "stream",
     "text": [
      "[2, 3, 5, 7, 11, 13, 17, 19, 23, 29, 31, 37, 41, 43, 47, 53, 59, 61, 67, 71]\n"
     ]
    }
   ],
   "source": [
    "def prime_num():\n",
    "    \"\"\"\n",
    "    A generator function that generates prime numbers less than 1000.\n",
    "    \"\"\"\n",
    "    primes = []\n",
    "    for num in range(2,1000):\n",
    "        is_prime =True\n",
    "        for prime in primes:\n",
    "            if num%prime==0:\n",
    "                is_prime= False\n",
    "                break\n",
    "        if is_prime:\n",
    "            primes.append(num)\n",
    "            yield num \n",
    "prime_generator = prime_num()\n",
    "l = []\n",
    "for i in prime_generator:\n",
    "    l.append(i)\n",
    "print(l[:20])  "
   ]
  },
  {
   "cell_type": "markdown",
   "id": "1fb7f82b-0caf-4455-b3e5-8fd1293a38e2",
   "metadata": {},
   "source": [
    "Q 6 "
   ]
  },
  {
   "cell_type": "code",
   "execution_count": 87,
   "id": "e702fd05-9887-4327-855b-c98295226fb3",
   "metadata": {},
   "outputs": [
    {
     "name": "stdout",
     "output_type": "stream",
     "text": [
      "0 1 1 2 3 5 8 13 21 34 "
     ]
    }
   ],
   "source": [
    "a,b = 0,1\n",
    "i=0\n",
    "while i<10:\n",
    "    print(a, end=\" \")\n",
    "    a,b = b, a+b \n",
    "    i = i + 1"
   ]
  },
  {
   "cell_type": "markdown",
   "id": "7c1615e8-13c2-4696-8cdd-77d8608d3be8",
   "metadata": {},
   "source": [
    "Q.7"
   ]
  },
  {
   "cell_type": "code",
   "execution_count": 97,
   "id": "4d789bb2-11d3-47a2-ab36-0b3be4fd676d",
   "metadata": {},
   "outputs": [
    {
     "name": "stdout",
     "output_type": "stream",
     "text": [
      "['p', 'w', 's', 'k', 'i', 'l', 'l', 's']\n"
     ]
    }
   ],
   "source": [
    "s= 'pwskills'\n",
    "p=[]\n",
    "for i in s:\n",
    "    p.append(i)\n",
    "print(p)"
   ]
  },
  {
   "cell_type": "markdown",
   "id": "0a987508-d61a-4dd3-9584-73fcd5041ad9",
   "metadata": {},
   "source": [
    "Q.8"
   ]
  },
  {
   "cell_type": "code",
   "execution_count": 110,
   "id": "48418dc9-e98f-4d82-afbc-3777048926b5",
   "metadata": {},
   "outputs": [
    {
     "name": "stdin",
     "output_type": "stream",
     "text": [
      "enter the number =  121\n"
     ]
    },
    {
     "name": "stdout",
     "output_type": "stream",
     "text": [
      "121 is palindrome\n"
     ]
    }
   ],
   "source": [
    "n = int(input('enter the number = '))\n",
    "Original_Number = n\n",
    "reverse_number = 0\n",
    "while n>0:\n",
    "    d= n%10\n",
    "    reverse_number = reverse_number*10 + d\n",
    "    n= n//10\n",
    "    \n",
    "if Original_Number==reverse_number:\n",
    "    print(Original_Number,'is palindrome')\n",
    "else:\n",
    "    print(Original_Number,'not palindrome')\n"
   ]
  },
  {
   "cell_type": "markdown",
   "id": "a7d5499a-5df3-4dcf-a38b-a09e29209b32",
   "metadata": {},
   "source": [
    "Q.9"
   ]
  },
  {
   "cell_type": "code",
   "execution_count": 118,
   "id": "4967b8e9-ecd4-4e3f-82aa-4a0419048c05",
   "metadata": {},
   "outputs": [
    {
     "name": "stdout",
     "output_type": "stream",
     "text": [
      "[1, 3, 5, 7, 9, 11, 13, 15, 17, 19, 21, 23, 25, 27, 29, 31, 33, 35, 37, 39, 41, 43, 45, 47, 49, 51, 53, 55, 57, 59, 61, 63, 65, 67, 69, 71, 73, 75, 77, 79, 81, 83, 85, 87, 89, 91, 93, 95, 97, 99]\n"
     ]
    }
   ],
   "source": [
    "l = [ i for i in range(100) if i%2!=0 ]\n",
    "print(l)"
   ]
  },
  {
   "cell_type": "code",
   "execution_count": null,
   "id": "a24be525-4c98-4c2b-8553-8169d0715fb0",
   "metadata": {},
   "outputs": [],
   "source": []
  },
  {
   "cell_type": "code",
   "execution_count": null,
   "id": "4377dd2b-a3d4-4d65-891e-e1a737f66e24",
   "metadata": {},
   "outputs": [],
   "source": []
  }
 ],
 "metadata": {
  "kernelspec": {
   "display_name": "Python 3 (ipykernel)",
   "language": "python",
   "name": "python3"
  },
  "language_info": {
   "codemirror_mode": {
    "name": "ipython",
    "version": 3
   },
   "file_extension": ".py",
   "mimetype": "text/x-python",
   "name": "python",
   "nbconvert_exporter": "python",
   "pygments_lexer": "ipython3",
   "version": "3.10.8"
  }
 },
 "nbformat": 4,
 "nbformat_minor": 5
}
