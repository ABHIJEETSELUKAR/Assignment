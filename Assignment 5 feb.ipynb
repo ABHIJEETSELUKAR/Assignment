{
 "cells": [
  {
   "cell_type": "markdown",
   "id": "ed89fc1a-bc3c-4359-b4eb-c1587fbd0214",
   "metadata": {},
   "source": [
    "Q1 Answer => \n",
    "Object-Oriented Programming (OOP) is a programming paradigm that focuses on objects and their interactions to solve problems. In OOP, a class is a blueprint or a template for creating objects, while an object is an instance of a class.\n",
    "\n",
    "A class is a user-defined data type that encapsulates data and functions that operate on that data. The data members of a class are variables, and the functions are called methods. The class defines the behavior of the objects created from it.\n",
    "\n",
    "An object is a real-world entity that has a set of properties (attributes) and can perform certain actions (methods). An object is an instance of a class, meaning it is created using the class as a template. The properties of an object are determined by the class it belongs to, but the values of those properties are specific to that particular object."
   ]
  },
  {
   "cell_type": "code",
   "execution_count": 48,
   "id": "2262c59f-8e92-4a4f-b8f8-ebcd8d329c2e",
   "metadata": {},
   "outputs": [
    {
     "name": "stdout",
     "output_type": "stream",
     "text": [
      "Abhijeet 85 75\n",
      "selukar 95 80\n"
     ]
    }
   ],
   "source": [
    "class student:\n",
    "    def __init__(self, name, total_mark, attendance):\n",
    "        self.name = name\n",
    "        self.total_mark = total_mark\n",
    "        self.attendance = attendance\n",
    "        \n",
    "    def details(self):\n",
    "        print(self.name, self.total_mark,self.attendance)\n",
    "\n",
    "s1 = student('Abhijeet',85,75)\n",
    "s2 = student('selukar',95,80)\n",
    "s1.details()\n",
    "s2.details()"
   ]
  },
  {
   "cell_type": "markdown",
   "id": "6b3fbbf0-cdc7-4f2f-a9a0-c0a2aabda7cd",
   "metadata": {},
   "source": [
    "Q2 Ans => The four pillars of Object-Oriented Programming (OOP) are:\n",
    "\n",
    "Encapsulation: This refers to the technique of hiding the internal workings of an object from the outside world and only exposing a public interface to interact with it. It helps in achieving better data security and reducing code complexity.\n",
    "\n",
    "Inheritance: This is the process of creating a new class from an existing class, where the new class inherits the properties and methods of the existing class. This helps in code reuse and saves time and effort in programming.\n",
    "\n",
    "Polymorphism: This refers to the ability of an object to take on different forms or behaviors depending on the context in which it is used. In OOP, this is usually achieved through method overloading or method overriding.\n",
    "\n",
    "Abstraction: This refers to the ability to focus on the essential features of an object and ignore the rest. It is a technique used to manage complexity by simplifying the representation of an object and only showing the necessary details.\n",
    "\n",
    "These four pillars are fundamental concepts of OOP and are used to create efficient, scalable, and maintainable software systems."
   ]
  },
  {
   "cell_type": "markdown",
   "id": "d1982fe7-d595-49ef-a723-3db8aa56fdba",
   "metadata": {},
   "source": [
    "Q.3 Ans => In Object-Oriented Programming (OOP), the __init__() function is a special method that is used to initialize the attributes of an object when it is created. It is also known as the constructor method and is automatically called when an object is instantiated.\n",
    "\n",
    "The __init__() function allows us to specify the initial values of the attributes of an object. It takes the self parameter, which refers to the object being created, and any other parameters that we want to pass to it. We use the self parameter to set the initial values of the attributes of the object."
   ]
  },
  {
   "cell_type": "code",
   "execution_count": 57,
   "id": "618a7663-7dd1-4d6c-a73c-db7b28c5337d",
   "metadata": {},
   "outputs": [
    {
     "name": "stdout",
     "output_type": "stream",
     "text": [
      "Name : Abhijeet ; Age : 25\n"
     ]
    }
   ],
   "source": [
    "class person: \n",
    "    def __init__(self, name, age):\n",
    "        self.name = name\n",
    "        self.age = age\n",
    "        \n",
    "    def details(self):\n",
    "        print('Name :', self.name, '; Age :', self.age)\n",
    "p1 = person('Abhijeet',25)\n",
    "p1.details()"
   ]
  },
  {
   "cell_type": "markdown",
   "id": "f4659880-87f6-444d-81f4-907a015bd622",
   "metadata": {},
   "source": [
    "Q.4 Ans = >> In Object-Oriented Programming (OOP), self is a special parameter that is used to refer to the current object within a class method. It is a convention in Python to use self as the first parameter of instance methods.\n",
    "\n",
    "When we create an object from a class, that object can have its own set of instance variables and methods. self is used to differentiate between the instance variables and methods of one object from those of another object. In other words, it helps to keep track of which object is being referred to in a particular method.\n",
    "\n",
    "By convention, when we define a method within a class, we include the self parameter as the first parameter, and then use self to access the instance variables and methods of that object within the method. This way, we can manipulate the attributes and behavior of the current object."
   ]
  },
  {
   "cell_type": "markdown",
   "id": "cb245f88-ef6d-4d3f-a5ed-d4805ec510aa",
   "metadata": {},
   "source": [
    "Q.5 ==> Inheritance is a fundamental concept in Object-Oriented Programming (OOP) that allows us to create new classes that are built upon existing classes. Inheritance is a mechanism by which a class can derive properties and methods from another class.\n",
    "\n",
    "The class that is being inherited from is called the parent class, base class or superclass. The class that inherits from the parent class is called the child class, derived class or subclass.\n",
    "\n",
    "Inheritance is useful in OOP because it allows us to reuse code, avoid duplicating code and reduce the overall complexity of a program."
   ]
  },
  {
   "cell_type": "markdown",
   "id": "0017d866-b74d-4d56-ad6a-53271b6737c8",
   "metadata": {},
   "source": [
    "Inheritance is a fundamental concept in Object-Oriented Programming (OOP) that allows us to create new classes that are built upon existing classes. Inheritance is a mechanism by which a class can derive properties and methods from another class.\n",
    "\n",
    "The class that is being inherited from is called the parent class, base class or superclass. The class that inherits from the parent class is called the child class, derived class or subclass.\n",
    "\n",
    "Inheritance is useful in OOP because it allows us to reuse code, avoid duplicating code and reduce the overall complexity of a program.\n",
    "\n",
    "There are three types of inheritance given below:\n",
    "\n",
    "Single inheritance: In this type of inheritance, a subclass inherits properties and methods from only one superclass.\n",
    "\n",
    "Hierarchical inheritance: In this type of inheritance, multiple child classes inherit properties and methods from a single parent class.\n",
    "\n",
    "Multilevel inheritance: In this type of inheritance, a subclass inherits properties and methods from a superclass, which in turn inherits from another superclass.\n"
   ]
  },
  {
   "cell_type": "code",
   "execution_count": 17,
   "id": "f88c640c-6b6c-476c-bf0b-e6dc3464858b",
   "metadata": {},
   "outputs": [
    {
     "name": "stdout",
     "output_type": "stream",
     "text": [
      "single inheritance : 2020 tata nano\n",
      "multilevel inheritance : Abhijeet 2020 60 60 pass\n",
      "hierarchical inheritance:\n",
      "CAR :[make: tata , model : nano , year : 2020 ]\n",
      "Truck :[make: tata , model : ashok leyland , year : 2020 ]\n"
     ]
    }
   ],
   "source": [
    "# single inheritance\n",
    "class vehicle:\n",
    "    def __init__(self,year, make):\n",
    "        self.year = year\n",
    "        self.make = make  \n",
    "        \n",
    "class car(vehicle): \n",
    "        def __init__(self,year,make, model):\n",
    "            super().__init__(year,make)\n",
    "            self.model = model\n",
    "c1 = car(2020,'tata','nano')\n",
    "print('single inheritance :',c1.year,c1.make,c1.model)\n",
    "\n",
    "# multilevel inheritance\n",
    "\n",
    "class class1:\n",
    "     \n",
    "        def __init__(self, name, year):\n",
    "            self.year = year\n",
    "            self.name = name\n",
    "            \n",
    "class class2(class1): \n",
    "        def __init__(self, name, year, attendance,mark):\n",
    "            super().__init__(name,year)\n",
    "            self.attendance = attendance\n",
    "            self.mark = mark\n",
    "\n",
    "class class3(class2): \n",
    "        def __init__(self, name, year, attendance,mark,result):\n",
    "            super().__init__(name, year,attendance,mark)\n",
    "            self.result = result\n",
    "            \n",
    "c2 = class3(\"Abhijeet\",2020,60,60,'pass')\n",
    "print('multilevel inheritance :',c2.name,c2.year, c2.mark,c2.attendance,c2.result)\n",
    "\n",
    "# hierarchical inheritance\n",
    "\n",
    "class Vehicle:\n",
    "    def __init__(self, make, model, year):\n",
    "        self.make = make\n",
    "        self.model = model\n",
    "        self.year = year\n",
    "    def mode(self):\n",
    "        print('transport')\n",
    "class Car(Vehicle):\n",
    "    def use(self):\n",
    "        print('family tour')\n",
    "\n",
    "class Truck(Vehicle):\n",
    "    def use(self):\n",
    "        print('Transportation')\n",
    "\n",
    "    \n",
    "c1 = Car('tata','nano',2020)\n",
    "c2 = Truck('tata','ashok leyland', 2020)\n",
    "print('hierarchical inheritance:')\n",
    "print('CAR :[make:',c1.make,', model :',c1.model,', year :', c1.year,']')\n",
    "print('Truck :[make:',c2.make,', model :',c2.model,', year :', c2.year,']')\n",
    "\n"
   ]
  }
 ],
 "metadata": {
  "kernelspec": {
   "display_name": "Python 3 (ipykernel)",
   "language": "python",
   "name": "python3"
  },
  "language_info": {
   "codemirror_mode": {
    "name": "ipython",
    "version": 3
   },
   "file_extension": ".py",
   "mimetype": "text/x-python",
   "name": "python",
   "nbconvert_exporter": "python",
   "pygments_lexer": "ipython3",
   "version": "3.10.8"
  }
 },
 "nbformat": 4,
 "nbformat_minor": 5
}
